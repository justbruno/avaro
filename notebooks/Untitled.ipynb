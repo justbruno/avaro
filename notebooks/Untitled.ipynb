{
 "cells": [
  {
   "cell_type": "code",
   "execution_count": 1,
   "id": "3c93a0f4",
   "metadata": {},
   "outputs": [],
   "source": [
    "%matplotlib inline\n",
    "import matplotlib.pyplot as plt"
   ]
  },
  {
   "cell_type": "code",
   "execution_count": 3,
   "id": "7d2335df",
   "metadata": {},
   "outputs": [],
   "source": [
    "import sys\n",
    "# caution: path[0] is reserved for script path (or '' in REPL)\n",
    "sys.path.insert(1, '..')"
   ]
  },
  {
   "cell_type": "code",
   "execution_count": 6,
   "id": "8970c775",
   "metadata": {},
   "outputs": [],
   "source": [
    "import os\n",
    "os.chdir('..')"
   ]
  },
  {
   "cell_type": "code",
   "execution_count": 7,
   "id": "e5f97de2",
   "metadata": {},
   "outputs": [],
   "source": [
    "from exchange import kraken_interface as exchange_interface\n"
   ]
  },
  {
   "cell_type": "code",
   "execution_count": 13,
   "id": "470fb570",
   "metadata": {},
   "outputs": [],
   "source": [
    "import numpy as np"
   ]
  },
  {
   "cell_type": "code",
   "execution_count": 19,
   "id": "9fb6c91a",
   "metadata": {},
   "outputs": [
    {
     "name": "stdout",
     "output_type": "stream",
     "text": [
      "2024-06-19 16:00:07 Kraken interface public request\n",
      "2024-06-19 16:00:07 api_method: OHLC\n",
      "2024-06-19 16:00:07 api_data: pair=XXBTZEUR&interval=1\n",
      "2024-06-19 16:00:07 Made request\n",
      "2024-06-19 16:00:07 Opening url...\n",
      "2024-06-19 16:00:07 Done\n"
     ]
    }
   ],
   "source": [
    "e = exchange_interface.ExchangeInterface()\n",
    "candles = e.get_candles()['result']['XXBTZEUR']"
   ]
  },
  {
   "cell_type": "code",
   "execution_count": 20,
   "id": "e65463f1",
   "metadata": {},
   "outputs": [
    {
     "data": {
      "text/plain": [
       "720"
      ]
     },
     "execution_count": 20,
     "metadata": {},
     "output_type": "execute_result"
    }
   ],
   "source": [
    "len(candles)"
   ]
  },
  {
   "cell_type": "code",
   "execution_count": 26,
   "id": "0aa11c83",
   "metadata": {},
   "outputs": [],
   "source": [
    "closes = np.array([c[4] for c in candles]).astype(np.double)"
   ]
  },
  {
   "cell_type": "code",
   "execution_count": 27,
   "id": "4027707c",
   "metadata": {},
   "outputs": [
    {
     "data": {
      "text/plain": [
       "[<matplotlib.lines.Line2D at 0x7f0975ed61f0>]"
      ]
     },
     "execution_count": 27,
     "metadata": {},
     "output_type": "execute_result"
    },
    {
     "data": {
      "image/png": "[encoded data removed]",
      "text/plain": [
       "<Figure size 432x288 with 1 Axes>"
      ]
     },
     "metadata": {
      "needs_background": "light"
     },
     "output_type": "display_data"
    }
   ],
   "source": [
    "plt.plot(closes)"
   ]
  },
  {
   "cell_type": "code",
   "execution_count": 24,
   "id": "85ba1e9f",
   "metadata": {},
   "outputs": [
    {
     "data": {
      "text/plain": [
       "array(['60877.3', '60877.3', '60895.5', '60900.3', '60939.0', '60901.7',\n",
       "       '60933.6', '60976.9', '60985.6', '60999.1', '61047.1', '61065.4',\n",
       "       '61100.0', '61101.4', '61172.8', '61192.6', '61172.7', '61111.9',\n",
       "       '61100.1', '61096.1', '61096.1', '61075.1', '61076.0', '61079.9',\n",
       "       '61080.0', '61062.3', '61062.3', '61077.7', '61080.0', '61080.0',\n",
       "       '61011.3', '61036.6', '61017.0', '61042.3', '61042.4', '61015.1',\n",
       "       '60997.5', '60981.5', '60998.8', '61000.5', '61000.5', '61012.4',\n",
       "       '60988.8', '61001.6', '60991.6', '61018.0', '60978.8', '60952.2',\n",
       "       '60952.1', '61005.2', '61004.6', '60987.3', '60985.7', '60985.6',\n",
       "       '60968.8', '60966.3', '60964.6', '60942.9', '60942.8', '60950.3',\n",
       "       '60942.5', '60972.0', '60953.6', '60953.6', '60953.6', '60975.3',\n",
       "       '60976.4', '60997.5', '61000.1', '60976.5', '60976.5', '60976.5',\n",
       "       '60935.0', '60938.4', '60938.5', '60874.1', '60895.5', '60913.0',\n",
       "       '60922.4', '60923.6', '60919.0', '60919.1', '60944.2', '60957.8',\n",
       "       '60957.8', '60972.2', '60961.7', '60967.4', '60967.3', '60977.5',\n",
       "       '61003.2', '61003.5', '61024.8', '61038.0', '61046.4', '61046.4',\n",
       "       '61000.1', '61000.6', '60989.1', '60983.7', '60968.6', '60982.8',\n",
       "       '60987.9', '60976.5', '60933.2', '60937.3', '60935.3', '60931.0',\n",
       "       '60927.6', '60965.5', '60959.9', '60984.0', '60983.0', '60987.9',\n",
       "       '60987.9', '60987.9', '60987.9', '60946.0', '60946.0', '60945.9',\n",
       "       '60946.0', '60946.0', '60964.4', '60953.9', '60953.8', '60953.9',\n",
       "       '60953.9', '60954.0', '60954.0', '60954.0', '60954.0', '60954.0',\n",
       "       '60980.4', '60978.3', '60998.5', '60956.9', '60950.2', '60957.6',\n",
       "       '60950.2', '60962.7', '60956.8', '60997.6', '60990.9', '60997.0',\n",
       "       '60995.1', '60995.1', '60970.3', '60969.0', '60969.0', '60970.4',\n",
       "       '60969.1', '61004.0', '60998.6', '61041.1', '61061.9', '61041.0',\n",
       "       '61026.1', '61026.0', '61026.0', '61076.3', '61059.0', '61059.0',\n",
       "       '61058.9', '61059.0', '61058.9', '61059.0', '61059.0', '61079.9',\n",
       "       '61080.0', '61080.0', '61080.0', '61080.0', '61079.9', '61080.0',\n",
       "       '61079.9', '61081.0', '61081.0', '61106.0', '61119.9', '61122.6',\n",
       "       '61126.7', '61141.0', '61143.4', '61153.8', '61153.7', '61153.8',\n",
       "       '61153.8', '61153.7', '61143.4', '61122.6', '61050.7', '61025.9',\n",
       "       '61039.4', '61047.6', '61034.9', '61029.0', '61029.0', '61035.6',\n",
       "       '61049.1', '61063.4', '61084.6', '61082.8', '61078.6', '60964.3',\n",
       "       '60990.0', '60945.9', '60900.1', '60824.8', '60824.8', '60767.4',\n",
       "       '60824.8', '60830.7', '60840.3', '60860.4', '60846.0', '60846.0',\n",
       "       '60846.0', '60846.0', '60903.8', '60913.2', '60898.2', '60898.2',\n",
       "       '60865.3', '60846.0', '60846.0', '60846.0', '60846.0', '60846.0',\n",
       "       '60846.0', '60846.0', '60846.0', '60846.0', '60845.6', '60845.5',\n",
       "       '60845.5', '60845.6', '60823.7', '60823.7', '60820.2', '60817.0',\n",
       "       '60817.0', '60817.0', '60817.0', '60817.0', '60758.2', '60758.1',\n",
       "       '60758.2', '60758.1', '60758.2', '60758.2', '60758.2', '60750.1',\n",
       "       '60750.1', '60750.1', '60750.1', '60750.1', '60750.0', '60750.1',\n",
       "       '60750.1', '60750.0', '60750.1', '60750.0', '60750.0', '60750.0',\n",
       "       '60750.1', '60750.3', '60758.2', '60758.2', '60750.1', '60641.6',\n",
       "       '60633.1', '60660.3', '60649.0', '60712.6', '60718.1', '60726.5',\n",
       "       '60712.6', '60719.5', '60721.3', '60709.0', '60667.6', '60691.0',\n",
       "       '60678.8', '60678.7', '60678.8', '60687.9', '60643.9', '60668.6',\n",
       "       '60633.3', '60638.2', '60633.1', '60633.2', '60675.9', '60672.3',\n",
       "       '60677.4', '60677.4', '60689.5', '60686.6', '60691.3', '60718.3',\n",
       "       '60722.8', '60747.5', '60730.2', '60748.8', '60737.0', '60730.3',\n",
       "       '60744.2', '60730.3', '60730.7', '60730.4', '60727.9', '60713.4',\n",
       "       '60715.4', '60706.9', '60721.8', '60699.7', '60655.6', '60655.6',\n",
       "       '60591.0', '60585.1', '60585.1', '60610.5', '60620.5', '60615.1',\n",
       "       '60615.1', '60616.7', '60636.6', '60655.7', '60642.9', '60663.7',\n",
       "       '60659.8', '60651.4', '60638.9', '60639.0', '60639.0', '60618.1',\n",
       "       '60618.0', '60615.2', '60615.1', '60637.9', '60637.9', '60637.8',\n",
       "       '60637.9', '60637.9', '60637.9', '60659.6', '60659.8', '60659.8',\n",
       "       '60659.8', '60659.7', '60719.0', '60746.0', '60746.0', '60746.0',\n",
       "       '60745.9', '60746.0', '60754.1', '60758.1', '60758.2', '60758.2',\n",
       "       '60782.2', '60810.7', '60810.3', '60817.8', '60797.8', '60797.9',\n",
       "       '60792.8', '60792.7', '60758.3', '60710.9', '60700.0', '60674.0',\n",
       "       '60674.1', '60674.1', '60654.1', '60654.1', '60654.1', '60666.7',\n",
       "       '60666.7', '60666.7', '60658.1', '60637.9', '60650.6', '60651.7',\n",
       "       '60655.0', '60654.9', '60654.9', '60637.9', '60637.8', '60637.9',\n",
       "       '60637.9', '60637.8', '60637.8', '60640.0', '60654.9', '60666.7',\n",
       "       '60666.6', '60666.7', '60666.7', '60732.5', '60756.0', '60765.0',\n",
       "       '60765.1', '60765.0', '60762.3', '60764.6', '60744.3', '60703.0',\n",
       "       '60692.9', '60690.9', '60731.8', '60786.3', '60777.2', '60777.2',\n",
       "       '60777.2', '60777.2', '60777.2', '60846.0', '60846.0', '60913.3',\n",
       "       '60864.4', '60859.9', '60848.8', '60831.8', '60818.6', '60822.7',\n",
       "       '60816.0', '60817.3', '60768.7', '60768.8', '60760.0', '60760.0',\n",
       "       '60768.8', '60801.0', '60818.0', '60801.7', '60837.2', '60837.1',\n",
       "       '60847.2', '60845.3', '60837.0', '60789.4', '60804.9', '60791.3',\n",
       "       '60828.2', '60831.6', '60819.1', '60835.7', '60842.7', '60860.0',\n",
       "       '60859.9', '60860.0', '60798.3', '60782.0', '60670.6', '60609.9',\n",
       "       '60600.0', '60503.1', '60500.1', '60578.0', '60582.4', '60597.0',\n",
       "       '60615.0', '60639.6', '60604.1', '60566.9', '60526.7', '60513.1',\n",
       "       '60560.9', '60558.2', '60583.6', '60596.0', '60586.6', '60565.7',\n",
       "       '60600.0', '60599.9', '60600.0', '60600.0', '60599.9', '60599.9',\n",
       "       '60600.0', '60600.0', '60632.7', '60677.4', '60673.4', '60686.2',\n",
       "       '60715.9', '60713.8', '60720.0', '60704.3', '60658.3', '60654.5',\n",
       "       '60600.0', '60599.9', '60569.5', '60569.4', '60617.0', '60550.4',\n",
       "       '60538.1', '60500.1', '60540.9', '60563.3', '60576.0', '60550.5',\n",
       "       '60591.0', '60617.4', '60621.3', '60627.3', '60623.3', '60623.3',\n",
       "       '60553.5', '60556.0', '60585.5', '60603.7', '60599.9', '60605.6',\n",
       "       '60606.0', '60605.5', '60605.6', '60623.2', '60682.0', '60660.0',\n",
       "       '60605.6', '60605.6', '60605.6', '60560.8', '60571.4', '60598.1',\n",
       "       '60639.5', '60630.7', '60644.9', '60621.0', '60644.2', '60639.2',\n",
       "       '60648.8', '60650.0', '60650.0', '60685.8', '60671.3', '60669.8',\n",
       "       '60686.0', '60685.1', '60649.9', '60636.2', '60631.8', '60630.2',\n",
       "       '60622.8', '60603.5', '60627.7', '60633.9', '60634.0', '60634.0',\n",
       "       '60634.0', '60634.0', '60626.0', '60623.2', '60634.9', '60631.9',\n",
       "       '60649.2', '60659.3', '60659.3', '60659.3', '60659.3', '60659.3',\n",
       "       '60682.3', '60682.3', '60682.3', '60657.4', '60671.0', '60657.5',\n",
       "       '60657.4', '60657.4', '60652.0', '60629.1', '60613.5', '60613.5',\n",
       "       '60613.8', '60624.0', '60624.0', '60605.1', '60580.1', '60615.8',\n",
       "       '60625.9', '60638.1', '60653.3', '60657.5', '60657.5', '60657.5',\n",
       "       '60609.4', '60609.4', '60600.1', '60583.8', '60583.7', '60583.8',\n",
       "       '60583.8', '60583.7', '60581.3', '60583.4', '60583.8', '60583.8',\n",
       "       '60568.7', '60554.7', '60496.6', '60593.6', '60633.0', '60612.6',\n",
       "       '60577.0', '60565.0', '60537.4', '60572.0', '60519.8', '60536.4',\n",
       "       '60527.2', '60478.0', '60488.1', '60459.2', '60450.1', '60468.8',\n",
       "       '60450.1', '60450.1', '60450.1', '60411.2', '60411.1', '60377.0',\n",
       "       '60399.3', '60399.3', '60380.1', '60380.1', '60372.7', '60380.0',\n",
       "       '60380.0', '60359.5', '60350.1', '60364.0', '60380.0', '60390.0',\n",
       "       '60422.2', '60446.7', '60446.7', '60438.3', '60449.9', '60449.9',\n",
       "       '60407.1', '60437.3', '60479.7', '60489.4', '60512.8', '60499.6',\n",
       "       '60454.5', '60431.6', '60407.1', '60430.9', '60400.1', '60400.1',\n",
       "       '60418.1', '60418.0', '60418.1', '60397.2', '60431.6', '60400.9',\n",
       "       '60406.4', '60414.1', '60414.1', '60414.1', '60414.0', '60414.1',\n",
       "       '60468.8', '60480.6', '60451.8', '60470.6', '60497.7', '60510.0',\n",
       "       '60568.7', '60556.9', '60552.5', '60521.0', '60526.2', '60523.2',\n",
       "       '60551.1', '60543.2', '60527.7', '60523.1', '60532.0', '60515.4',\n",
       "       '60469.8', '60486.2', '60465.0', '60462.8', '60443.6', '60420.5',\n",
       "       '60438.5', '60443.4', '60434.0', '60389.9', '60428.1', '60394.2',\n",
       "       '60389.9', '60390.0', '60399.7', '60390.0', '60390.0', '60390.0',\n",
       "       '60348.9', '60348.8', '60355.1', '60355.2', '60356.6', '60334.6',\n",
       "       '60355.2', '60355.5', '60358.0', '60344.6', '60344.7', '60300.1',\n",
       "       '60329.8', '60317.7', '60301.8', '60342.8', '60355.4', '60378.8'],\n",
       "      dtype='<U7')"
      ]
     },
     "execution_count": 24,
     "metadata": {},
     "output_type": "execute_result"
    }
   ],
   "source": [
    "closes"
   ]
  },
  {
   "cell_type": "code",
   "execution_count": null,
   "id": "2d6feaaf",
   "metadata": {},
   "outputs": [],
   "source": [
    "\n",
    "\n",
    "\n",
    "\n",
    "\n",
    "\n",
    "\n",
    "\n",
    "\n",
    "\n",
    "\n",
    "\n",
    "\n",
    "\n",
    "\n",
    "\n",
    "\n",
    "\n"
   ]
  }
 ],
 "metadata": {
  "kernelspec": {
   "display_name": "Python 3 (ipykernel)",
   "language": "python",
   "name": "python3"
  },
  "language_info": {
   "codemirror_mode": {
    "name": "ipython",
    "version": 3
   },
   "file_extension": ".py",
   "mimetype": "text/x-python",
   "name": "python",
   "nbconvert_exporter": "python",
   "pygments_lexer": "ipython3",
   "version": "3.9.12"
  }
 },
 "nbformat": 4,
 "nbformat_minor": 5
}
